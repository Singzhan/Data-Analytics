{
  "nbformat": 4,
  "nbformat_minor": 0,
  "metadata": {
    "colab": {
      "name": "InteractiveForms.ipynb",
      "provenance": [],
      "collapsed_sections": [],
      "authorship_tag": "ABX9TyPkOjzADtP7Eps3wMWVV2xD",
      "include_colab_link": true
    },
    "kernelspec": {
      "name": "python3",
      "display_name": "Python 3"
    }
  },
  "cells": [
    {
      "cell_type": "markdown",
      "metadata": {
        "id": "view-in-github",
        "colab_type": "text"
      },
      "source": [
        "<a href=\"https://colab.research.google.com/github/Singzhan/Data-Analytics/blob/main/InteractiveForms.ipynb\" target=\"_parent\"><img src=\"https://colab.research.google.com/assets/colab-badge.svg\" alt=\"Open In Colab\"/></a>"
      ]
    },
    {
      "cell_type": "code",
      "metadata": {
        "id": "ePHxSgrplhXa"
      },
      "source": [
        "first_name= \"Charles\" #@param {type:\"string\"}\r\n",
        "last_name= \"Keith\" #@param {type:\"string\"}"
      ],
      "execution_count": 15,
      "outputs": []
    },
    {
      "cell_type": "code",
      "metadata": {
        "colab": {
          "base_uri": "https://localhost:8080/"
        },
        "id": "tQTMlbtxn9tp",
        "outputId": "5c566b56-555b-437c-bca0-a364074a26c4"
      },
      "source": [
        "print(first_name)"
      ],
      "execution_count": null,
      "outputs": [
        {
          "output_type": "stream",
          "text": [
            "Charles\n"
          ],
          "name": "stdout"
        }
      ]
    },
    {
      "cell_type": "code",
      "metadata": {
        "id": "MWLWor8boBfs"
      },
      "source": [
        "age =  44#@param{type:\"number\"}"
      ],
      "execution_count": null,
      "outputs": []
    },
    {
      "cell_type": "code",
      "metadata": {
        "colab": {
          "base_uri": "https://localhost:8080/"
        },
        "id": "yS2h-vc5oZUj",
        "outputId": "58283062-bc16-4a93-da72-1576ae9d51c2"
      },
      "source": [
        "print(age)"
      ],
      "execution_count": null,
      "outputs": [
        {
          "output_type": "stream",
          "text": [
            "44\n"
          ],
          "name": "stdout"
        }
      ]
    },
    {
      "cell_type": "code",
      "metadata": {
        "id": "CXDmoc84obAA"
      },
      "source": [
        "#@title Dropdown\r\n",
        "gender = \"Male\" #@param[\"Male\", \"Female\"]"
      ],
      "execution_count": null,
      "outputs": []
    },
    {
      "cell_type": "code",
      "metadata": {
        "colab": {
          "base_uri": "https://localhost:8080/",
          "height": 132
        },
        "id": "VNWvuKNWo9NZ",
        "outputId": "7336c292-f955-4cb3-edcd-e94c1f02ba52"
      },
      "source": [
        "#@title Dropdown and userinput\r\n",
        "educational_qualification = \"tests\" #@param[\"B.Phil.\", \"B.Eng.\", \"B.F.A.\", \"Others\"]{allow-input: true}"
      ],
      "execution_count": null,
      "outputs": [
        {
          "output_type": "error",
          "ename": "SyntaxError",
          "evalue": "ignored",
          "traceback": [
            "\u001b[0;36m  File \u001b[0;32m\"<ipython-input-12-4d1e11693c8c>\"\u001b[0;36m, line \u001b[0;32m2\u001b[0m\n\u001b[0;31m    educational_qualification = B.Phil. #@param[\"B.Phil.\", \"B.Eng.\", \"B.F.A.\", \"Others\"].{allow-input: true}.\u001b[0m\n\u001b[0m                                                                                                             ^\u001b[0m\n\u001b[0;31mSyntaxError\u001b[0m\u001b[0;31m:\u001b[0m invalid syntax\n"
          ]
        }
      ]
    },
    {
      "cell_type": "code",
      "metadata": {
        "colab": {
          "base_uri": "https://localhost:8080/",
          "height": 167
        },
        "id": "h7uFqXNZo4yR",
        "outputId": "1ddd4b94-1639-438c-dd58-92475514a00d"
      },
      "source": [
        "print(educational_qualification)"
      ],
      "execution_count": null,
      "outputs": [
        {
          "output_type": "error",
          "ename": "NameError",
          "evalue": "ignored",
          "traceback": [
            "\u001b[0;31m---------------------------------------------------------------------------\u001b[0m",
            "\u001b[0;31mNameError\u001b[0m                                 Traceback (most recent call last)",
            "\u001b[0;32m<ipython-input-13-c9a3e77402aa>\u001b[0m in \u001b[0;36m<module>\u001b[0;34m()\u001b[0m\n\u001b[0;32m----> 1\u001b[0;31m \u001b[0mprint\u001b[0m\u001b[0;34m(\u001b[0m\u001b[0meducational_qualification\u001b[0m\u001b[0;34m)\u001b[0m\u001b[0;34m\u001b[0m\u001b[0;34m\u001b[0m\u001b[0m\n\u001b[0m",
            "\u001b[0;31mNameError\u001b[0m: name 'educational_qualification' is not defined"
          ]
        }
      ]
    },
    {
      "cell_type": "code",
      "metadata": {
        "id": "sKi3ijVJpNCu"
      },
      "source": [
        "work_exp_in_years = 5 #@param{type:\"slider\", min:0, max:10, step:1}"
      ],
      "execution_count": null,
      "outputs": []
    },
    {
      "cell_type": "code",
      "metadata": {
        "id": "000O6j_SozYX",
        "colab": {
          "base_uri": "https://localhost:8080/"
        },
        "outputId": "3b13a94b-e730-4b41-ee0b-da78c3a03eab"
      },
      "source": [
        "from google.colab import drive\r\n",
        "drive.mount('/content/drive')"
      ],
      "execution_count": 12,
      "outputs": [
        {
          "output_type": "stream",
          "text": [
            "Mounted at /content/drive\n"
          ],
          "name": "stdout"
        }
      ]
    },
    {
      "cell_type": "code",
      "metadata": {
        "id": "LynXMeixsgoW"
      },
      "source": [
        "import csv"
      ],
      "execution_count": 13,
      "outputs": []
    },
    {
      "cell_type": "code",
      "metadata": {
        "id": "HBdQZlzorYDJ"
      },
      "source": [
        "info = [first_name, last_name]"
      ],
      "execution_count": 16,
      "outputs": []
    },
    {
      "cell_type": "code",
      "metadata": {
        "id": "kx9VEJwrt7h_"
      },
      "source": [
        "with open('drive/My Drive/employee_details.csv', 'a') as f:\r\n",
        "  writer=csv.writer(f)\r\n",
        "  writer.writerow(info)"
      ],
      "execution_count": 17,
      "outputs": []
    },
    {
      "cell_type": "code",
      "metadata": {
        "id": "nsY6DuMHulBo"
      },
      "source": [
        "with open('drive/My Drive/sample.txt', 'w') as f:\r\n",
        "  f.write('Hello Google Drive!')\r\n",
        "  !cat /content/drive/My\\ Drive/sample.txt"
      ],
      "execution_count": 24,
      "outputs": []
    },
    {
      "cell_type": "code",
      "metadata": {
        "id": "djZf5gZkwEEK"
      },
      "source": [
        ""
      ],
      "execution_count": null,
      "outputs": []
    },
    {
      "cell_type": "code",
      "metadata": {
        "id": "Or-vzJeuvtOa"
      },
      "source": [
        ""
      ],
      "execution_count": null,
      "outputs": []
    }
  ]
}